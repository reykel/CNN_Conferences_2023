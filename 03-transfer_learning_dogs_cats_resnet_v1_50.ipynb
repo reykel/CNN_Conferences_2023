{
  "nbformat": 4,
  "nbformat_minor": 0,
  "metadata": {
    "colab": {
      "provenance": [],
      "authorship_tag": "ABX9TyMEj1DMiqipjQURCU+pOpKw",
      "include_colab_link": true
    },
    "kernelspec": {
      "name": "python3",
      "display_name": "Python 3"
    },
    "language_info": {
      "name": "python"
    },
    "accelerator": "GPU",
    "gpuClass": "standard"
  },
  "cells": [
    {
      "cell_type": "markdown",
      "metadata": {
        "id": "view-in-github",
        "colab_type": "text"
      },
      "source": [
        "<a href=\"https://colab.research.google.com/github/reykel/machine_learning_keras_tf_owned/blob/main/01-transfer_learning_dogs_cats_resnet_v1_50.ipynb\" target=\"_parent\"><img src=\"https://colab.research.google.com/assets/colab-badge.svg\" alt=\"Open In Colab\"/></a>"
      ]
    },
    {
      "cell_type": "code",
      "execution_count": 1,
      "metadata": {
        "id": "8z5hqr0hHtLv"
      },
      "outputs": [],
      "source": [
        "import tensorflow as tf"
      ]
    },
    {
      "cell_type": "code",
      "execution_count": 2,
      "metadata": {
        "id": "WZnAHGETHu7e"
      },
      "outputs": [],
      "source": [
        "import matplotlib.pylab as plt\n",
        "\n",
        "import tensorflow_hub as hub\n",
        "import tensorflow_datasets as tfds\n",
        "\n",
        "from keras import layers"
      ]
    },
    {
      "cell_type": "code",
      "source": [
        "import numpy as np\n",
        "\n",
        "from sklearn.metrics import confusion_matrix\n",
        "import itertools\n",
        "import matplotlib.pyplot as plt"
      ],
      "metadata": {
        "id": "LM0OMHNQBQaJ"
      },
      "execution_count": 3,
      "outputs": []
    },
    {
      "cell_type": "code",
      "execution_count": 4,
      "metadata": {
        "id": "FVM2fKGEHIJN"
      },
      "outputs": [],
      "source": [
        "import logging\n",
        "logger = tf.get_logger()\n",
        "logger.setLevel(logging.ERROR)"
      ]
    },
    {
      "cell_type": "code",
      "execution_count": 5,
      "metadata": {
        "id": "DrIUV3V0xDL_"
      },
      "outputs": [],
      "source": [
        "(train_examples, validation_examples, test_examples), info = tfds.load(\n",
        "    'cats_vs_dogs', \n",
        "    with_info=True, \n",
        "    as_supervised=True, \n",
        "    split=['train[:80%]', 'train[80%:95%]', 'train[95%:]'],\n",
        ")\n",
        "\n",
        "num_examples = info.splits['train'].num_examples\n",
        "num_classes = info.features['label'].num_classes"
      ]
    },
    {
      "cell_type": "code",
      "execution_count": 6,
      "metadata": {
        "id": "we_ftzQxNf7e"
      },
      "outputs": [],
      "source": [
        "def format_image(image, label):\n",
        "  image = tf.image.resize(image, (IMAGE_RES, IMAGE_RES))/255.0\n",
        "  return image, label\n",
        "\n",
        "BATCH_SIZE = 32\n",
        "IMAGE_RES = 224\n",
        "\n",
        "train_batches = train_examples.shuffle(num_examples//4).map(format_image).batch(BATCH_SIZE).prefetch(1)\n",
        "validation_batches = validation_examples.map(format_image).batch(BATCH_SIZE).prefetch(1)\n",
        "test_batches = test_examples.map(format_image).batch(BATCH_SIZE).prefetch(1)"
      ]
    },
    {
      "cell_type": "code",
      "source": [
        "model = tf.keras.Sequential([\n",
        "    hub.KerasLayer(\"https://tfhub.dev/google/imagenet/resnet_v1_50/feature_vector/5\", \n",
        "                                            output_shape=[2048], \n",
        "                                            trainable=False), \n",
        "                             layers.Dense(num_classes, activation='softmax')\n",
        "])\n",
        "\n",
        "model.build([None, IMAGE_RES, IMAGE_RES, 3])\n",
        "\n",
        "model.summary()"
      ],
      "metadata": {
        "id": "U9QG9reMhJS-",
        "colab": {
          "base_uri": "https://localhost:8080/"
        },
        "outputId": "357fef52-8c20-4f68-d617-5ecbe2ebb5af"
      },
      "execution_count": 7,
      "outputs": [
        {
          "output_type": "stream",
          "name": "stdout",
          "text": [
            "Model: \"sequential\"\n",
            "_________________________________________________________________\n",
            " Layer (type)                Output Shape              Param #   \n",
            "=================================================================\n",
            " keras_layer (KerasLayer)    (None, 2048)              23561152  \n",
            "                                                                 \n",
            " dense (Dense)               (None, 2)                 4098      \n",
            "                                                                 \n",
            "=================================================================\n",
            "Total params: 23,565,250\n",
            "Trainable params: 4,098\n",
            "Non-trainable params: 23,561,152\n",
            "_________________________________________________________________\n"
          ]
        }
      ]
    },
    {
      "cell_type": "code",
      "execution_count": 8,
      "metadata": {
        "id": "3n0Wb9ylKd8R",
        "colab": {
          "base_uri": "https://localhost:8080/"
        },
        "outputId": "777d1e0f-cc07-49de-f050-dccfc6423938"
      },
      "outputs": [
        {
          "output_type": "stream",
          "name": "stdout",
          "text": [
            "Epoch 1/6\n",
            "582/582 [==============================] - 75s 97ms/step - loss: 0.0532 - accuracy: 0.9810 - val_loss: 0.0472 - val_accuracy: 0.9837\n",
            "Epoch 2/6\n",
            "582/582 [==============================] - 59s 95ms/step - loss: 0.0310 - accuracy: 0.9896 - val_loss: 0.0477 - val_accuracy: 0.9860\n",
            "Epoch 3/6\n",
            "582/582 [==============================] - 57s 92ms/step - loss: 0.0230 - accuracy: 0.9922 - val_loss: 0.0525 - val_accuracy: 0.9868\n",
            "Epoch 4/6\n",
            "582/582 [==============================] - 58s 92ms/step - loss: 0.0190 - accuracy: 0.9935 - val_loss: 0.0506 - val_accuracy: 0.9865\n",
            "Epoch 5/6\n",
            "582/582 [==============================] - 57s 92ms/step - loss: 0.0157 - accuracy: 0.9942 - val_loss: 0.0499 - val_accuracy: 0.9854\n",
            "Epoch 6/6\n",
            "582/582 [==============================] - 60s 96ms/step - loss: 0.0143 - accuracy: 0.9952 - val_loss: 0.0632 - val_accuracy: 0.9837\n"
          ]
        },
        {
          "output_type": "execute_result",
          "data": {
            "text/plain": [
              "<keras.callbacks.History at 0x7ff3431418e0>"
            ]
          },
          "metadata": {},
          "execution_count": 8
        }
      ],
      "source": [
        "model.compile(\n",
        "  optimizer='adam',\n",
        "  loss='sparse_categorical_crossentropy',\n",
        "  metrics=['accuracy'])\n",
        "\n",
        "model.fit(train_batches, epochs=6, validation_data=validation_batches)"
      ]
    },
    {
      "cell_type": "code",
      "source": [
        "image_batch, label_batch = next(iter(test_batches.take(1)))\n",
        "image_batch = image_batch.numpy()\n",
        "label_batch = label_batch.numpy()"
      ],
      "metadata": {
        "id": "K5ToLZCXcMvW"
      },
      "execution_count": 9,
      "outputs": []
    },
    {
      "cell_type": "code",
      "execution_count": 10,
      "metadata": {
        "id": "fCLVCpEjJ_VP",
        "colab": {
          "base_uri": "https://localhost:8080/"
        },
        "outputId": "f85623e3-9a8b-404d-89eb-bcc3698c78d6"
      },
      "outputs": [
        {
          "output_type": "stream",
          "name": "stdout",
          "text": [
            "1/1 [==============================] - 0s 453ms/step\n"
          ]
        }
      ],
      "source": [
        "predicted_batch = model.predict(image_batch)"
      ]
    },
    {
      "cell_type": "code",
      "source": [
        "predicted_ids = np.argmax(predicted_batch, axis=-1)"
      ],
      "metadata": {
        "id": "qU_ybjY3ZHLe"
      },
      "execution_count": 11,
      "outputs": []
    },
    {
      "cell_type": "code",
      "source": [
        "for i in range(0,len(predicted_ids)):\n",
        "  print(str(predicted_ids[i]) + \" - \" + str(label_batch[i]))"
      ],
      "metadata": {
        "id": "cUr5pP7rJVtN",
        "colab": {
          "base_uri": "https://localhost:8080/"
        },
        "outputId": "eb2119e6-c68a-4e68-c10f-13436a11474d"
      },
      "execution_count": 12,
      "outputs": [
        {
          "output_type": "stream",
          "name": "stdout",
          "text": [
            "0 - 0\n",
            "0 - 0\n",
            "1 - 1\n",
            "1 - 1\n",
            "1 - 1\n",
            "0 - 0\n",
            "0 - 0\n",
            "1 - 1\n",
            "1 - 1\n",
            "1 - 1\n",
            "1 - 1\n",
            "0 - 0\n",
            "1 - 1\n",
            "0 - 0\n",
            "1 - 1\n",
            "0 - 0\n",
            "0 - 0\n",
            "0 - 0\n",
            "0 - 0\n",
            "1 - 1\n",
            "0 - 0\n",
            "0 - 0\n",
            "1 - 1\n",
            "0 - 0\n",
            "0 - 0\n",
            "1 - 1\n",
            "0 - 0\n",
            "0 - 0\n",
            "0 - 0\n",
            "0 - 0\n",
            "0 - 0\n",
            "0 - 0\n"
          ]
        }
      ]
    },
    {
      "cell_type": "code",
      "source": [
        "cm = confusion_matrix(label_batch, predicted_ids)"
      ],
      "metadata": {
        "id": "4nIJic06HKK3"
      },
      "execution_count": 13,
      "outputs": []
    },
    {
      "cell_type": "code",
      "source": [
        "def plot_confusion_matrix(cm, classes,\n",
        "                          normalize=False,\n",
        "                          title='Confusion matrix',\n",
        "                          cmap=plt.cm.Blues):\n",
        "\n",
        "    plt.imshow(cm, interpolation='nearest', cmap=cmap)\n",
        "    plt.title(title)\n",
        "    plt.colorbar()\n",
        "    tick_marks = np.arange(len(classes))\n",
        "    plt.xticks(tick_marks, classes, rotation=45)\n",
        "    plt.yticks(tick_marks, classes)\n",
        "\n",
        "    if normalize:\n",
        "        cm = cm.astype('float') / cm.sum(axis=1)[:, np.newaxis]\n",
        "        print(\"Normalized confusion matrix\")\n",
        "    else:\n",
        "        print('Confusion matrix, without normalization')\n",
        "\n",
        "    thresh = cm.max() / 2.\n",
        "    for i, j in itertools.product(range(cm.shape[0]), range(cm.shape[1])):\n",
        "        plt.text(j, i, cm[i, j],\n",
        "                 horizontalalignment=\"center\",\n",
        "                 color=\"white\" if cm[i, j] > thresh else \"black\")\n",
        "\n",
        "    plt.tight_layout()\n",
        "    plt.ylabel('True label')\n",
        "    plt.xlabel('Predicted label')"
      ],
      "metadata": {
        "id": "jladQA1yHfal"
      },
      "execution_count": 14,
      "outputs": []
    },
    {
      "cell_type": "code",
      "source": [
        "cm_plot_labels = ['Cats','Dogs']\n",
        "plot_confusion_matrix(cm, cm_plot_labels, title='Confusion Matrix')"
      ],
      "metadata": {
        "id": "xhesuhMRHkVr",
        "colab": {
          "base_uri": "https://localhost:8080/",
          "height": 328
        },
        "outputId": "0da6ee55-d3e7-41b8-cf40-4913f990ee40"
      },
      "execution_count": 15,
      "outputs": [
        {
          "output_type": "stream",
          "name": "stdout",
          "text": [
            "Confusion matrix, without normalization\n"
          ]
        },
        {
          "output_type": "display_data",
          "data": {
            "text/plain": [
              "<Figure size 432x288 with 2 Axes>"
            ],
            "image/png": "[encoded data removed]"
          },
          "metadata": {
            "needs_background": "light"
          }
        }
      ]
    }
  ]
}